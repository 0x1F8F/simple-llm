{
 "cells": [
  {
   "cell_type": "code",
   "execution_count": 1,
   "id": "d0bdbd88-c162-4ee1-9df9-0647e86bc4f7",
   "metadata": {},
   "outputs": [],
   "source": [
    "import sllm2\n",
    "import torch\n",
    "from torch import nn\n",
    "from plotly import express as ex"
   ]
  },
  {
   "cell_type": "code",
   "execution_count": 2,
   "id": "5dab05d4-05a0-4b19-9788-ecf96cf33027",
   "metadata": {},
   "outputs": [],
   "source": [
    "with open(\"../simple-llm2/cache.txt\") as f:\n",
    "    db = f.read()"
   ]
  },
  {
   "cell_type": "code",
   "execution_count": 3,
   "id": "6992b1c9-abc1-4dd6-b3e1-e21b34ca3ca8",
   "metadata": {},
   "outputs": [],
   "source": [
    "vocab = sorted(set(db))\n",
    "vocab_size = vsz = len(vocab)\n",
    "tokenizer = sllm2.tokenizer.Tokenizer()\n",
    "tokenizer.train(vocab)"
   ]
  },
  {
   "cell_type": "code",
   "execution_count": 4,
   "id": "941566eb-8170-4385-a6cb-e2a03c01f188",
   "metadata": {},
   "outputs": [
    {
     "data": {
      "text/plain": [
       "['\\n', ' ', '\"', '&']"
      ]
     },
     "execution_count": 4,
     "metadata": {},
     "output_type": "execute_result"
    }
   ],
   "source": [
    "tokenizer.decode([0,1,2,3])"
   ]
  },
  {
   "cell_type": "code",
   "execution_count": 5,
   "id": "edb69bd4-9944-4ef3-9858-627eb5de8ab6",
   "metadata": {},
   "outputs": [
    {
     "data": {
      "text/plain": [
       "(torch.Size([10000]), torch.int64, device(type='cpu'))"
      ]
     },
     "execution_count": 5,
     "metadata": {},
     "output_type": "execute_result"
    }
   ],
   "source": [
    "data = torch.tensor(tokenizer.encode(db))\n",
    "data.shape , data.dtype , data.device"
   ]
  },
  {
   "cell_type": "code",
   "execution_count": 6,
   "id": "b2126820-bacd-4f9b-a88d-e75f5e2ac1d3",
   "metadata": {},
   "outputs": [],
   "source": [
    "split = int (len(db) * 0.9)\n",
    "train = data[:split]\n",
    "test = data[split:]"
   ]
  },
  {
   "cell_type": "code",
   "execution_count": 7,
   "id": "2631abb5-bef0-444b-8864-d126206c6536",
   "metadata": {},
   "outputs": [
    {
     "data": {
      "text/plain": [
       "\"s throughout the world.\\nIn 1988, Irvine became the first non-American president of World Vision International.\\nJim Daly.\\ncame from Woodside army camp where he was a YMCA army officer.\\nAfter his Army service he joined the Adelaide Y as Extension Secretary under Irvine having responsibility for developing boards, programmes and ensuring the viability of Walkerville, Northern Districts (Kilburn), West Croydon and Elizabeth Branches.\\nHe was a senior leader at the first Kangaroo Island Camp and many others in preceding years.\\nThey were initially organised initially by Don McCallum, Physical Education Director and in following years by Ross Baxter Glen Powell, Gary Kelly, Dean Manning, Dave Badger, Tim Looker.\\nThe Kangaroo Island Camps ran for nearly 40 years.\\nDaly's particular interest was in Adventure Camping.\\nHe personally led groups of senior leaders on Outward Bound-type expeditions to New Zealand, Tasmania (Cradle Mountain Track, Flinders Ranges and the Grampians).\\nDaly went on become \""
      ]
     },
     "execution_count": 7,
     "metadata": {},
     "output_type": "execute_result"
    }
   ],
   "source": [
    "\"\".join(tokenizer.decode(test.tolist()))"
   ]
  },
  {
   "cell_type": "code",
   "execution_count": 8,
   "id": "1b6c50c7-a006-405b-94b9-fc5d4d5d7dc5",
   "metadata": {},
   "outputs": [
    {
     "name": "stdout",
     "output_type": "stream",
     "text": [
      "ng the viability of "
     ]
    }
   ],
   "source": [
    "def get_data(batch_size , window_size = 20 , val = False):\n",
    "    data = test if val else train\n",
    "    random_pos = torch.randint(len(data)-window_size, (batch_size,))\n",
    "    x = torch.stack([ data[ i  :i+window_size  ] for i in random_pos ])\n",
    "    y = torch.stack([ data[ i+1:i+window_size+1] for i in random_pos ])\n",
    "    return x,y\n",
    "\n",
    "x,y = get_data(batch_size=4, val=True)\n",
    "print(\"\\r\"+\"\".join(tokenizer.decode(x[1].tolist())), end=\"\")"
   ]
  },
  {
   "cell_type": "code",
   "execution_count": 9,
   "id": "2e9ba66b-ad26-46a2-90ea-591accef587b",
   "metadata": {},
   "outputs": [],
   "source": [
    "from dataclasses import dataclass\n",
    "\n",
    "@dataclass\n",
    "class ModelArg:\n",
    "    vocab_size: int = -1\n",
    "    emb_size: int = 32\n",
    "    head_size: int = 32\n",
    "    window_size: int = 20\n",
    "    lr: float  = 1e-3\n",
    "    batch_size: int = 32\n"
   ]
  },
  {
   "cell_type": "code",
   "execution_count": 213,
   "id": "5ec56ad1-aac2-443a-9549-54bec6ffeb42",
   "metadata": {},
   "outputs": [],
   "source": [
    "class Head(nn.Module):\n",
    "    def __init__(self, arg: ModelArg):\n",
    "        super().__init__()\n",
    "        self.arg = arg\n",
    "        self.head_size = arg.head_size\n",
    "        self.bsz = arg.batch_size\n",
    "        self.emb_size = arg.emb_size\n",
    "        self.wk = nn.Linear(arg.emb_size , arg.head_size ,bias=False)\n",
    "        self.wq = nn.Linear(arg.emb_size , arg.head_size ,bias=False)\n",
    "        self.wv = nn.Linear(arg.emb_size , arg.head_size ,bias=False)\n",
    "        \n",
    "    def forward(self,x):\n",
    "        k = self.wk(x)\n",
    "        q = self.wq(x)\n",
    "        v = self.wv(x) # w = ( (k @ q)/root(head_dim) ) @ v\n",
    "        w = ((k @ q.transpose(1,2)).mul(self.head_size ** -0.5)) @ v\n",
    "        return w.tril()"
   ]
  },
  {
   "cell_type": "code",
   "execution_count": 214,
   "id": "4c88016a-bd38-43ec-8e7f-1c098ede5ec7",
   "metadata": {},
   "outputs": [
    {
     "data": {
      "text/plain": [
       "torch.Size([4, 10, 75])"
      ]
     },
     "execution_count": 214,
     "metadata": {},
     "output_type": "execute_result"
    }
   ],
   "source": [
    "model_args = ModelArg(\n",
    "    vocab_size = vocab_size,\n",
    "    emb_size = 200,\n",
    "    batch_size= 4,\n",
    "    head_size= vocab_size,\n",
    "    window_size=10\n",
    ")\n",
    "\n",
    "class Transformer(nn.Module):\n",
    "    def __init__(self , arg: ModelArg):\n",
    "        super().__init__()\n",
    "        self.arg = arg\n",
    "        self.embedding = nn.Embedding(arg.vocab_size , arg.emb_size) # -> (batch , token , emb)\n",
    "        self.head = Head(arg)\n",
    "    \n",
    "    def forward(self,x : torch.Tensor) -> torch.Tensor:\n",
    "        b , t = x.shape\n",
    "        logits = self.embedding(x)\n",
    "        logits = self.head(logits)\n",
    "        logits = nn.functional.softmax(logits, dim=-1)\n",
    "        return logits # -> ( batch , token , channels )\n",
    "    \n",
    "    def trainer(self, x , y):\n",
    "        logits = self(x)\n",
    "        b , t , c = logits.shape\n",
    "        loss = nn.functional.cross_entropy(logits.view(b*t,c) , y.view(b*t))\n",
    "        return logits , loss\n",
    "\n",
    "net = Transformer(model_args)\n",
    "x,y = get_data(model_args.batch_size, model_args.window_size)\n",
    "logits = net(x)\n",
    "logits.shape"
   ]
  },
  {
   "cell_type": "code",
   "execution_count": 228,
   "id": "a7ba5fb3-a969-4ff9-b7c4-cd6425ae960a",
   "metadata": {},
   "outputs": [
    {
     "data": {
      "application/vnd.plotly.v1+json": {
       "config": {
        "plotlyServerURL": "https://plot.ly"
       },
       "data": [
        {
         "hovertemplate": "variable=0<br>index=%{x}<br>value=%{y}<extra></extra>",
         "legendgroup": "0",
         "line": {
          "color": "#636efa",
          "dash": "solid"
         },
         "marker": {
          "symbol": "circle"
         },
         "mode": "lines",
         "name": "0",
         "orientation": "v",
         "showlegend": true,
         "type": "scatter",
         "x": [
          0,
          1,
          2,
          3,
          4,
          5,
          6,
          7,
          8,
          9,
          10,
          11,
          12,
          13,
          14,
          15,
          16,
          17,
          18,
          19,
          20,
          21,
          22,
          23,
          24,
          25,
          26,
          27,
          28,
          29,
          30,
          31,
          32,
          33,
          34,
          35,
          36,
          37,
          38,
          39,
          40,
          41,
          42,
          43,
          44,
          45,
          46,
          47,
          48,
          49,
          50,
          51,
          52,
          53,
          54,
          55,
          56,
          57,
          58,
          59,
          60,
          61,
          62,
          63,
          64,
          65,
          66,
          67,
          68,
          69,
          70,
          71,
          72,
          73,
          74,
          75,
          76,
          77,
          78,
          79,
          80,
          81,
          82,
          83,
          84,
          85,
          86,
          87,
          88,
          89,
          90,
          91,
          92,
          93,
          94,
          95,
          96,
          97,
          98,
          99,
          100,
          101,
          102,
          103,
          104,
          105,
          106,
          107,
          108,
          109,
          110,
          111,
          112,
          113,
          114,
          115,
          116,
          117,
          118,
          119,
          120,
          121,
          122,
          123,
          124,
          125,
          126,
          127,
          128,
          129,
          130,
          131,
          132,
          133,
          134,
          135,
          136,
          137,
          138,
          139,
          140,
          141,
          142,
          143,
          144,
          145,
          146,
          147,
          148,
          149,
          150,
          151,
          152,
          153,
          154,
          155,
          156,
          157,
          158,
          159,
          160,
          161,
          162,
          163,
          164,
          165,
          166,
          167,
          168,
          169,
          170,
          171,
          172,
          173,
          174,
          175,
          176,
          177,
          178,
          179,
          180,
          181,
          182,
          183,
          184,
          185,
          186,
          187,
          188,
          189,
          190,
          191,
          192,
          193,
          194,
          195,
          196,
          197,
          198,
          199,
          200,
          201,
          202,
          203,
          204,
          205,
          206,
          207,
          208,
          209,
          210,
          211,
          212,
          213,
          214,
          215,
          216,
          217,
          218,
          219,
          220,
          221,
          222,
          223,
          224,
          225,
          226,
          227,
          228,
          229,
          230,
          231,
          232,
          233,
          234,
          235,
          236,
          237,
          238,
          239,
          240,
          241,
          242,
          243,
          244,
          245,
          246,
          247,
          248,
          249,
          250,
          251,
          252,
          253,
          254,
          255,
          256,
          257,
          258,
          259,
          260,
          261,
          262,
          263,
          264,
          265,
          266,
          267,
          268,
          269,
          270,
          271,
          272,
          273,
          274,
          275,
          276,
          277,
          278,
          279,
          280,
          281,
          282,
          283,
          284,
          285,
          286,
          287,
          288,
          289,
          290,
          291,
          292,
          293,
          294,
          295,
          296,
          297,
          298,
          299
         ],
         "xaxis": "x",
         "y": [
          4.250136375427246,
          4.223981857299805,
          4.152215003967285,
          4.22747278213501,
          4.200118064880371,
          4.250441551208496,
          4.251509189605713,
          4.154450416564941,
          4.178362846374512,
          4.2002973556518555,
          4.152268409729004,
          4.177502632141113,
          4.225229740142822,
          4.1759185791015625,
          4.251090049743652,
          4.202747344970703,
          4.200151443481445,
          4.178726673126221,
          4.227094650268555,
          4.178411483764648,
          4.1736884117126465,
          4.153037071228027,
          4.20157527923584,
          4.224905967712402,
          4.17561149597168,
          4.273536682128906,
          4.200425148010254,
          4.228909969329834,
          4.177896022796631,
          4.250358581542969,
          4.252491474151611,
          4.227497577667236,
          4.2223920822143555,
          4.151350021362305,
          4.247312068939209,
          4.178261756896973,
          4.25070333480835,
          4.227705478668213,
          4.2554216384887695,
          4.200064182281494,
          4.202120304107666,
          4.199148178100586,
          4.227694034576416,
          4.17526388168335,
          4.177764415740967,
          4.151532173156738,
          4.222766876220703,
          4.177524089813232,
          4.224333763122559,
          4.226372718811035,
          4.202723026275635,
          4.297605514526367,
          4.226373195648193,
          4.226746559143066,
          4.1020121574401855,
          4.225588798522949,
          4.250977993011475,
          4.177153587341309,
          4.229285717010498,
          4.223910331726074,
          4.225100994110107,
          4.227514743804932,
          4.22587776184082,
          4.201562881469727,
          4.203078269958496,
          4.223541736602783,
          4.202118396759033,
          4.178671836853027,
          4.1741533279418945,
          4.20009708404541,
          4.227165699005127,
          4.152334213256836,
          4.125367164611816,
          4.177720069885254,
          4.226681709289551,
          4.175294876098633,
          4.200661659240723,
          4.226935386657715,
          4.17629337310791,
          4.27584171295166,
          4.201543807983398,
          4.223962306976318,
          4.203669548034668,
          4.176596641540527,
          4.198935508728027,
          4.227274417877197,
          4.2018842697143555,
          4.249298095703125,
          4.176567077636719,
          4.276355266571045,
          4.273571968078613,
          4.178095817565918,
          4.22342586517334,
          4.201340198516846,
          4.200328350067139,
          4.200706958770752,
          4.198920726776123,
          4.150333881378174,
          4.202136993408203,
          4.198577404022217,
          4.17789363861084,
          4.152073860168457,
          4.250744819641113,
          4.252561569213867,
          4.174132347106934,
          4.253317832946777,
          4.272801876068115,
          4.2018513679504395,
          4.199169158935547,
          4.174895286560059,
          4.149183750152588,
          4.2003631591796875,
          4.174740791320801,
          4.225677013397217,
          4.225111484527588,
          4.198553562164307,
          4.153919219970703,
          4.20308780670166,
          4.276700973510742,
          4.250148773193359,
          4.225883960723877,
          4.276711463928223,
          4.253710746765137,
          4.199552536010742,
          4.176894187927246,
          4.251615524291992,
          4.226130962371826,
          4.227756023406982,
          4.248433589935303,
          4.203089714050293,
          4.225407600402832,
          4.225127696990967,
          4.300484657287598,
          4.202153205871582,
          4.153266429901123,
          4.199166297912598,
          4.200169563293457,
          4.249525547027588,
          4.201297283172607,
          4.225367069244385,
          4.199516296386719,
          4.201560974121094,
          4.226939678192139,
          4.2009782791137695,
          4.1557159423828125,
          4.1753435134887695,
          4.222977161407471,
          4.17655611038208,
          4.225421905517578,
          4.172765254974365,
          4.247281551361084,
          4.176526069641113,
          4.251645088195801,
          4.2034010887146,
          4.250676155090332,
          4.250118732452393,
          4.227673530578613,
          4.298703193664551,
          4.250090599060059,
          4.201976299285889,
          4.197112560272217,
          4.225325107574463,
          4.176560878753662,
          4.1765360832214355,
          4.198950290679932,
          4.225913047790527,
          4.202232360839844,
          4.225006103515625,
          4.1751389503479,
          4.225995063781738,
          4.224146366119385,
          4.201235771179199,
          4.174526691436768,
          4.250887393951416,
          4.200117588043213,
          4.197126865386963,
          4.1753764152526855,
          4.202542304992676,
          4.2006916999816895,
          4.200701713562012,
          4.175986289978027,
          4.252758502960205,
          4.226902484893799,
          4.125708103179932,
          4.201513767242432,
          4.202240943908691,
          4.229269981384277,
          4.226036071777344,
          4.20211935043335,
          4.25053596496582,
          4.226649284362793,
          4.17770528793335,
          4.228120803833008,
          4.124186038970947,
          4.125966548919678,
          4.175290107727051,
          4.226307392120361,
          4.226918697357178,
          4.151556968688965,
          4.228707313537598,
          4.176494121551514,
          4.176891326904297,
          4.19929838180542,
          4.201013565063477,
          4.226593017578125,
          4.202485084533691,
          4.201813697814941,
          4.176328659057617,
          4.126514911651611,
          4.17745304107666,
          4.202744007110596,
          4.22591495513916,
          4.177666664123535,
          4.200669765472412,
          4.2269086837768555,
          4.177732944488525,
          4.15098762512207,
          4.2007646560668945,
          4.225869178771973,
          4.176743984222412,
          4.19657039642334,
          4.175054550170898,
          4.17643404006958,
          4.226929187774658,
          4.24869441986084,
          4.251053810119629,
          4.248530387878418,
          4.201910018920898,
          4.2268781661987305,
          4.224495887756348,
          4.199633598327637,
          4.224530220031738,
          4.2227349281311035,
          4.174779891967773,
          4.2215166091918945,
          4.224839210510254,
          4.178045272827148,
          4.201841831207275,
          4.251659870147705,
          4.175891876220703,
          4.150914192199707,
          4.176260948181152,
          4.248972415924072,
          4.1745710372924805,
          4.22353982925415,
          4.150328159332275,
          4.272160530090332,
          4.225499629974365,
          4.187004089355469,
          4.1764984130859375,
          4.252063274383545,
          4.251097202301025,
          4.174901962280273,
          4.273075103759766,
          4.251276969909668,
          4.202062129974365,
          4.251494884490967,
          4.275723457336426,
          4.175985813140869,
          4.226518630981445,
          4.2033796310424805,
          4.174170017242432,
          4.195014476776123,
          4.200952053070068,
          4.17690372467041,
          4.200531959533691,
          4.224921226501465,
          4.199738502502441,
          4.225790023803711,
          4.203127861022949,
          4.199783802032471,
          4.200094699859619,
          4.1506781578063965,
          4.2489519119262695,
          4.175123691558838,
          4.197096824645996,
          4.201302528381348,
          4.227719306945801,
          4.203302383422852,
          4.226563453674316,
          4.25010871887207,
          4.228503227233887,
          4.173891067504883,
          4.273910999298096,
          4.201674938201904,
          4.226567268371582,
          4.222728729248047,
          4.176508903503418,
          4.222692489624023,
          4.225484371185303,
          4.1764607429504395,
          4.202129364013672,
          4.2013444900512695,
          4.151556968688965,
          4.149794101715088,
          4.250669956207275,
          4.199499607086182,
          4.175455570220947,
          4.197375774383545,
          4.202299118041992
         ],
         "yaxis": "y"
        }
       ],
       "layout": {
        "height": 360,
        "legend": {
         "title": {
          "text": "variable"
         },
         "tracegroupgap": 0
        },
        "margin": {
         "t": 60
        },
        "shapes": [
         {
          "line": {
           "color": "green"
          },
          "type": "line",
          "x0": 0,
          "x1": 1,
          "xref": "x domain",
          "y0": 4.1020121574401855,
          "y1": 4.1020121574401855,
          "yref": "y"
         },
         {
          "line": {
           "color": "red",
           "dash": "dot"
          },
          "type": "line",
          "x0": 0,
          "x1": 1,
          "xref": "x domain",
          "y0": 4.207365042368571,
          "y1": 4.207365042368571,
          "yref": "y"
         }
        ],
        "template": {
         "data": {
          "bar": [
           {
            "error_x": {
             "color": "#2a3f5f"
            },
            "error_y": {
             "color": "#2a3f5f"
            },
            "marker": {
             "line": {
              "color": "#E5ECF6",
              "width": 0.5
             },
             "pattern": {
              "fillmode": "overlay",
              "size": 10,
              "solidity": 0.2
             }
            },
            "type": "bar"
           }
          ],
          "barpolar": [
           {
            "marker": {
             "line": {
              "color": "#E5ECF6",
              "width": 0.5
             },
             "pattern": {
              "fillmode": "overlay",
              "size": 10,
              "solidity": 0.2
             }
            },
            "type": "barpolar"
           }
          ],
          "carpet": [
           {
            "aaxis": {
             "endlinecolor": "#2a3f5f",
             "gridcolor": "white",
             "linecolor": "white",
             "minorgridcolor": "white",
             "startlinecolor": "#2a3f5f"
            },
            "baxis": {
             "endlinecolor": "#2a3f5f",
             "gridcolor": "white",
             "linecolor": "white",
             "minorgridcolor": "white",
             "startlinecolor": "#2a3f5f"
            },
            "type": "carpet"
           }
          ],
          "choropleth": [
           {
            "colorbar": {
             "outlinewidth": 0,
             "ticks": ""
            },
            "type": "choropleth"
           }
          ],
          "contour": [
           {
            "colorbar": {
             "outlinewidth": 0,
             "ticks": ""
            },
            "colorscale": [
             [
              0,
              "#0d0887"
             ],
             [
              0.1111111111111111,
              "#46039f"
             ],
             [
              0.2222222222222222,
              "#7201a8"
             ],
             [
              0.3333333333333333,
              "#9c179e"
             ],
             [
              0.4444444444444444,
              "#bd3786"
             ],
             [
              0.5555555555555556,
              "#d8576b"
             ],
             [
              0.6666666666666666,
              "#ed7953"
             ],
             [
              0.7777777777777778,
              "#fb9f3a"
             ],
             [
              0.8888888888888888,
              "#fdca26"
             ],
             [
              1,
              "#f0f921"
             ]
            ],
            "type": "contour"
           }
          ],
          "contourcarpet": [
           {
            "colorbar": {
             "outlinewidth": 0,
             "ticks": ""
            },
            "type": "contourcarpet"
           }
          ],
          "heatmap": [
           {
            "colorbar": {
             "outlinewidth": 0,
             "ticks": ""
            },
            "colorscale": [
             [
              0,
              "#0d0887"
             ],
             [
              0.1111111111111111,
              "#46039f"
             ],
             [
              0.2222222222222222,
              "#7201a8"
             ],
             [
              0.3333333333333333,
              "#9c179e"
             ],
             [
              0.4444444444444444,
              "#bd3786"
             ],
             [
              0.5555555555555556,
              "#d8576b"
             ],
             [
              0.6666666666666666,
              "#ed7953"
             ],
             [
              0.7777777777777778,
              "#fb9f3a"
             ],
             [
              0.8888888888888888,
              "#fdca26"
             ],
             [
              1,
              "#f0f921"
             ]
            ],
            "type": "heatmap"
           }
          ],
          "heatmapgl": [
           {
            "colorbar": {
             "outlinewidth": 0,
             "ticks": ""
            },
            "colorscale": [
             [
              0,
              "#0d0887"
             ],
             [
              0.1111111111111111,
              "#46039f"
             ],
             [
              0.2222222222222222,
              "#7201a8"
             ],
             [
              0.3333333333333333,
              "#9c179e"
             ],
             [
              0.4444444444444444,
              "#bd3786"
             ],
             [
              0.5555555555555556,
              "#d8576b"
             ],
             [
              0.6666666666666666,
              "#ed7953"
             ],
             [
              0.7777777777777778,
              "#fb9f3a"
             ],
             [
              0.8888888888888888,
              "#fdca26"
             ],
             [
              1,
              "#f0f921"
             ]
            ],
            "type": "heatmapgl"
           }
          ],
          "histogram": [
           {
            "marker": {
             "pattern": {
              "fillmode": "overlay",
              "size": 10,
              "solidity": 0.2
             }
            },
            "type": "histogram"
           }
          ],
          "histogram2d": [
           {
            "colorbar": {
             "outlinewidth": 0,
             "ticks": ""
            },
            "colorscale": [
             [
              0,
              "#0d0887"
             ],
             [
              0.1111111111111111,
              "#46039f"
             ],
             [
              0.2222222222222222,
              "#7201a8"
             ],
             [
              0.3333333333333333,
              "#9c179e"
             ],
             [
              0.4444444444444444,
              "#bd3786"
             ],
             [
              0.5555555555555556,
              "#d8576b"
             ],
             [
              0.6666666666666666,
              "#ed7953"
             ],
             [
              0.7777777777777778,
              "#fb9f3a"
             ],
             [
              0.8888888888888888,
              "#fdca26"
             ],
             [
              1,
              "#f0f921"
             ]
            ],
            "type": "histogram2d"
           }
          ],
          "histogram2dcontour": [
           {
            "colorbar": {
             "outlinewidth": 0,
             "ticks": ""
            },
            "colorscale": [
             [
              0,
              "#0d0887"
             ],
             [
              0.1111111111111111,
              "#46039f"
             ],
             [
              0.2222222222222222,
              "#7201a8"
             ],
             [
              0.3333333333333333,
              "#9c179e"
             ],
             [
              0.4444444444444444,
              "#bd3786"
             ],
             [
              0.5555555555555556,
              "#d8576b"
             ],
             [
              0.6666666666666666,
              "#ed7953"
             ],
             [
              0.7777777777777778,
              "#fb9f3a"
             ],
             [
              0.8888888888888888,
              "#fdca26"
             ],
             [
              1,
              "#f0f921"
             ]
            ],
            "type": "histogram2dcontour"
           }
          ],
          "mesh3d": [
           {
            "colorbar": {
             "outlinewidth": 0,
             "ticks": ""
            },
            "type": "mesh3d"
           }
          ],
          "parcoords": [
           {
            "line": {
             "colorbar": {
              "outlinewidth": 0,
              "ticks": ""
             }
            },
            "type": "parcoords"
           }
          ],
          "pie": [
           {
            "automargin": true,
            "type": "pie"
           }
          ],
          "scatter": [
           {
            "fillpattern": {
             "fillmode": "overlay",
             "size": 10,
             "solidity": 0.2
            },
            "type": "scatter"
           }
          ],
          "scatter3d": [
           {
            "line": {
             "colorbar": {
              "outlinewidth": 0,
              "ticks": ""
             }
            },
            "marker": {
             "colorbar": {
              "outlinewidth": 0,
              "ticks": ""
             }
            },
            "type": "scatter3d"
           }
          ],
          "scattercarpet": [
           {
            "marker": {
             "colorbar": {
              "outlinewidth": 0,
              "ticks": ""
             }
            },
            "type": "scattercarpet"
           }
          ],
          "scattergeo": [
           {
            "marker": {
             "colorbar": {
              "outlinewidth": 0,
              "ticks": ""
             }
            },
            "type": "scattergeo"
           }
          ],
          "scattergl": [
           {
            "marker": {
             "colorbar": {
              "outlinewidth": 0,
              "ticks": ""
             }
            },
            "type": "scattergl"
           }
          ],
          "scattermapbox": [
           {
            "marker": {
             "colorbar": {
              "outlinewidth": 0,
              "ticks": ""
             }
            },
            "type": "scattermapbox"
           }
          ],
          "scatterpolar": [
           {
            "marker": {
             "colorbar": {
              "outlinewidth": 0,
              "ticks": ""
             }
            },
            "type": "scatterpolar"
           }
          ],
          "scatterpolargl": [
           {
            "marker": {
             "colorbar": {
              "outlinewidth": 0,
              "ticks": ""
             }
            },
            "type": "scatterpolargl"
           }
          ],
          "scatterternary": [
           {
            "marker": {
             "colorbar": {
              "outlinewidth": 0,
              "ticks": ""
             }
            },
            "type": "scatterternary"
           }
          ],
          "surface": [
           {
            "colorbar": {
             "outlinewidth": 0,
             "ticks": ""
            },
            "colorscale": [
             [
              0,
              "#0d0887"
             ],
             [
              0.1111111111111111,
              "#46039f"
             ],
             [
              0.2222222222222222,
              "#7201a8"
             ],
             [
              0.3333333333333333,
              "#9c179e"
             ],
             [
              0.4444444444444444,
              "#bd3786"
             ],
             [
              0.5555555555555556,
              "#d8576b"
             ],
             [
              0.6666666666666666,
              "#ed7953"
             ],
             [
              0.7777777777777778,
              "#fb9f3a"
             ],
             [
              0.8888888888888888,
              "#fdca26"
             ],
             [
              1,
              "#f0f921"
             ]
            ],
            "type": "surface"
           }
          ],
          "table": [
           {
            "cells": {
             "fill": {
              "color": "#EBF0F8"
             },
             "line": {
              "color": "white"
             }
            },
            "header": {
             "fill": {
              "color": "#C8D4E3"
             },
             "line": {
              "color": "white"
             }
            },
            "type": "table"
           }
          ]
         },
         "layout": {
          "annotationdefaults": {
           "arrowcolor": "#2a3f5f",
           "arrowhead": 0,
           "arrowwidth": 1
          },
          "autotypenumbers": "strict",
          "coloraxis": {
           "colorbar": {
            "outlinewidth": 0,
            "ticks": ""
           }
          },
          "colorscale": {
           "diverging": [
            [
             0,
             "#8e0152"
            ],
            [
             0.1,
             "#c51b7d"
            ],
            [
             0.2,
             "#de77ae"
            ],
            [
             0.3,
             "#f1b6da"
            ],
            [
             0.4,
             "#fde0ef"
            ],
            [
             0.5,
             "#f7f7f7"
            ],
            [
             0.6,
             "#e6f5d0"
            ],
            [
             0.7,
             "#b8e186"
            ],
            [
             0.8,
             "#7fbc41"
            ],
            [
             0.9,
             "#4d9221"
            ],
            [
             1,
             "#276419"
            ]
           ],
           "sequential": [
            [
             0,
             "#0d0887"
            ],
            [
             0.1111111111111111,
             "#46039f"
            ],
            [
             0.2222222222222222,
             "#7201a8"
            ],
            [
             0.3333333333333333,
             "#9c179e"
            ],
            [
             0.4444444444444444,
             "#bd3786"
            ],
            [
             0.5555555555555556,
             "#d8576b"
            ],
            [
             0.6666666666666666,
             "#ed7953"
            ],
            [
             0.7777777777777778,
             "#fb9f3a"
            ],
            [
             0.8888888888888888,
             "#fdca26"
            ],
            [
             1,
             "#f0f921"
            ]
           ],
           "sequentialminus": [
            [
             0,
             "#0d0887"
            ],
            [
             0.1111111111111111,
             "#46039f"
            ],
            [
             0.2222222222222222,
             "#7201a8"
            ],
            [
             0.3333333333333333,
             "#9c179e"
            ],
            [
             0.4444444444444444,
             "#bd3786"
            ],
            [
             0.5555555555555556,
             "#d8576b"
            ],
            [
             0.6666666666666666,
             "#ed7953"
            ],
            [
             0.7777777777777778,
             "#fb9f3a"
            ],
            [
             0.8888888888888888,
             "#fdca26"
            ],
            [
             1,
             "#f0f921"
            ]
           ]
          },
          "colorway": [
           "#636efa",
           "#EF553B",
           "#00cc96",
           "#ab63fa",
           "#FFA15A",
           "#19d3f3",
           "#FF6692",
           "#B6E880",
           "#FF97FF",
           "#FECB52"
          ],
          "font": {
           "color": "#2a3f5f"
          },
          "geo": {
           "bgcolor": "white",
           "lakecolor": "white",
           "landcolor": "#E5ECF6",
           "showlakes": true,
           "showland": true,
           "subunitcolor": "white"
          },
          "hoverlabel": {
           "align": "left"
          },
          "hovermode": "closest",
          "mapbox": {
           "style": "light"
          },
          "paper_bgcolor": "white",
          "plot_bgcolor": "#E5ECF6",
          "polar": {
           "angularaxis": {
            "gridcolor": "white",
            "linecolor": "white",
            "ticks": ""
           },
           "bgcolor": "#E5ECF6",
           "radialaxis": {
            "gridcolor": "white",
            "linecolor": "white",
            "ticks": ""
           }
          },
          "scene": {
           "xaxis": {
            "backgroundcolor": "#E5ECF6",
            "gridcolor": "white",
            "gridwidth": 2,
            "linecolor": "white",
            "showbackground": true,
            "ticks": "",
            "zerolinecolor": "white"
           },
           "yaxis": {
            "backgroundcolor": "#E5ECF6",
            "gridcolor": "white",
            "gridwidth": 2,
            "linecolor": "white",
            "showbackground": true,
            "ticks": "",
            "zerolinecolor": "white"
           },
           "zaxis": {
            "backgroundcolor": "#E5ECF6",
            "gridcolor": "white",
            "gridwidth": 2,
            "linecolor": "white",
            "showbackground": true,
            "ticks": "",
            "zerolinecolor": "white"
           }
          },
          "shapedefaults": {
           "line": {
            "color": "#2a3f5f"
           }
          },
          "ternary": {
           "aaxis": {
            "gridcolor": "white",
            "linecolor": "white",
            "ticks": ""
           },
           "baxis": {
            "gridcolor": "white",
            "linecolor": "white",
            "ticks": ""
           },
           "bgcolor": "#E5ECF6",
           "caxis": {
            "gridcolor": "white",
            "linecolor": "white",
            "ticks": ""
           }
          },
          "title": {
           "x": 0.05
          },
          "xaxis": {
           "automargin": true,
           "gridcolor": "white",
           "linecolor": "white",
           "ticks": "",
           "title": {
            "standoff": 15
           },
           "zerolinecolor": "white",
           "zerolinewidth": 2
          },
          "yaxis": {
           "automargin": true,
           "gridcolor": "white",
           "linecolor": "white",
           "ticks": "",
           "title": {
            "standoff": 15
           },
           "zerolinecolor": "white",
           "zerolinewidth": 2
          }
         }
        },
        "xaxis": {
         "anchor": "y",
         "autorange": true,
         "domain": [
          0,
          1
         ],
         "range": [
          0,
          299
         ],
         "title": {
          "text": "index"
         },
         "type": "linear"
        },
        "yaxis": {
         "anchor": "x",
         "autorange": true,
         "domain": [
          0,
          1
         ],
         "range": [
          4.090985907448663,
          4.3115109072791205
         ],
         "title": {
          "text": "value"
         },
         "type": "linear"
        }
       }
      },
      "image/png": "[encoded data removed]",
      "text/html": [
       "<div>                            <div id=\"dca780e9-e59d-4958-8231-6d43df58e6a0\" class=\"plotly-graph-div\" style=\"height:525px; width:100%;\"></div>            <script type=\"text/javascript\">                require([\"plotly\"], function(Plotly) {                    window.PLOTLYENV=window.PLOTLYENV || {};                                    if (document.getElementById(\"dca780e9-e59d-4958-8231-6d43df58e6a0\")) {                    Plotly.newPlot(                        \"dca780e9-e59d-4958-8231-6d43df58e6a0\",                        [{\"hovertemplate\":\"variable=0\\u003cbr\\u003eindex=%{x}\\u003cbr\\u003evalue=%{y}\\u003cextra\\u003e\\u003c\\u002fextra\\u003e\",\"legendgroup\":\"0\",\"line\":{\"color\":\"#636efa\",\"dash\":\"solid\"},\"marker\":{\"symbol\":\"circle\"},\"mode\":\"lines\",\"name\":\"0\",\"orientation\":\"v\",\"showlegend\":true,\"x\":[0,1,2,3,4,5,6,7,8,9,10,11,12,13,14,15,16,17,18,19,20,21,22,23,24,25,26,27,28,29,30,31,32,33,34,35,36,37,38,39,40,41,42,43,44,45,46,47,48,49,50,51,52,53,54,55,56,57,58,59,60,61,62,63,64,65,66,67,68,69,70,71,72,73,74,75,76,77,78,79,80,81,82,83,84,85,86,87,88,89,90,91,92,93,94,95,96,97,98,99,100,101,102,103,104,105,106,107,108,109,110,111,112,113,114,115,116,117,118,119,120,121,122,123,124,125,126,127,128,129,130,131,132,133,134,135,136,137,138,139,140,141,142,143,144,145,146,147,148,149,150,151,152,153,154,155,156,157,158,159,160,161,162,163,164,165,166,167,168,169,170,171,172,173,174,175,176,177,178,179,180,181,182,183,184,185,186,187,188,189,190,191,192,193,194,195,196,197,198,199,200,201,202,203,204,205,206,207,208,209,210,211,212,213,214,215,216,217,218,219,220,221,222,223,224,225,226,227,228,229,230,231,232,233,234,235,236,237,238,239,240,241,242,243,244,245,246,247,248,249,250,251,252,253,254,255,256,257,258,259,260,261,262,263,264,265,266,267,268,269,270,271,272,273,274,275,276,277,278,279,280,281,282,283,284,285,286,287,288,289,290,291,292,293,294,295,296,297,298,299],\"xaxis\":\"x\",\"y\":[4.250136375427246,4.223981857299805,4.152215003967285,4.22747278213501,4.200118064880371,4.250441551208496,4.251509189605713,4.154450416564941,4.178362846374512,4.2002973556518555,4.152268409729004,4.177502632141113,4.225229740142822,4.1759185791015625,4.251090049743652,4.202747344970703,4.200151443481445,4.178726673126221,4.227094650268555,4.178411483764648,4.1736884117126465,4.153037071228027,4.20157527923584,4.224905967712402,4.17561149597168,4.273536682128906,4.200425148010254,4.228909969329834,4.177896022796631,4.250358581542969,4.252491474151611,4.227497577667236,4.2223920822143555,4.151350021362305,4.247312068939209,4.178261756896973,4.25070333480835,4.227705478668213,4.2554216384887695,4.200064182281494,4.202120304107666,4.199148178100586,4.227694034576416,4.17526388168335,4.177764415740967,4.151532173156738,4.222766876220703,4.177524089813232,4.224333763122559,4.226372718811035,4.202723026275635,4.297605514526367,4.226373195648193,4.226746559143066,4.1020121574401855,4.225588798522949,4.250977993011475,4.177153587341309,4.229285717010498,4.223910331726074,4.225100994110107,4.227514743804932,4.22587776184082,4.201562881469727,4.203078269958496,4.223541736602783,4.202118396759033,4.178671836853027,4.1741533279418945,4.20009708404541,4.227165699005127,4.152334213256836,4.125367164611816,4.177720069885254,4.226681709289551,4.175294876098633,4.200661659240723,4.226935386657715,4.17629337310791,4.27584171295166,4.201543807983398,4.223962306976318,4.203669548034668,4.176596641540527,4.198935508728027,4.227274417877197,4.2018842697143555,4.249298095703125,4.176567077636719,4.276355266571045,4.273571968078613,4.178095817565918,4.22342586517334,4.201340198516846,4.200328350067139,4.200706958770752,4.198920726776123,4.150333881378174,4.202136993408203,4.198577404022217,4.17789363861084,4.152073860168457,4.250744819641113,4.252561569213867,4.174132347106934,4.253317832946777,4.272801876068115,4.2018513679504395,4.199169158935547,4.174895286560059,4.149183750152588,4.2003631591796875,4.174740791320801,4.225677013397217,4.225111484527588,4.198553562164307,4.153919219970703,4.20308780670166,4.276700973510742,4.250148773193359,4.225883960723877,4.276711463928223,4.253710746765137,4.199552536010742,4.176894187927246,4.251615524291992,4.226130962371826,4.227756023406982,4.248433589935303,4.203089714050293,4.225407600402832,4.225127696990967,4.300484657287598,4.202153205871582,4.153266429901123,4.199166297912598,4.200169563293457,4.249525547027588,4.201297283172607,4.225367069244385,4.199516296386719,4.201560974121094,4.226939678192139,4.2009782791137695,4.1557159423828125,4.1753435134887695,4.222977161407471,4.17655611038208,4.225421905517578,4.172765254974365,4.247281551361084,4.176526069641113,4.251645088195801,4.2034010887146,4.250676155090332,4.250118732452393,4.227673530578613,4.298703193664551,4.250090599060059,4.201976299285889,4.197112560272217,4.225325107574463,4.176560878753662,4.1765360832214355,4.198950290679932,4.225913047790527,4.202232360839844,4.225006103515625,4.1751389503479,4.225995063781738,4.224146366119385,4.201235771179199,4.174526691436768,4.250887393951416,4.200117588043213,4.197126865386963,4.1753764152526855,4.202542304992676,4.2006916999816895,4.200701713562012,4.175986289978027,4.252758502960205,4.226902484893799,4.125708103179932,4.201513767242432,4.202240943908691,4.229269981384277,4.226036071777344,4.20211935043335,4.25053596496582,4.226649284362793,4.17770528793335,4.228120803833008,4.124186038970947,4.125966548919678,4.175290107727051,4.226307392120361,4.226918697357178,4.151556968688965,4.228707313537598,4.176494121551514,4.176891326904297,4.19929838180542,4.201013565063477,4.226593017578125,4.202485084533691,4.201813697814941,4.176328659057617,4.126514911651611,4.17745304107666,4.202744007110596,4.22591495513916,4.177666664123535,4.200669765472412,4.2269086837768555,4.177732944488525,4.15098762512207,4.2007646560668945,4.225869178771973,4.176743984222412,4.19657039642334,4.175054550170898,4.17643404006958,4.226929187774658,4.24869441986084,4.251053810119629,4.248530387878418,4.201910018920898,4.2268781661987305,4.224495887756348,4.199633598327637,4.224530220031738,4.2227349281311035,4.174779891967773,4.2215166091918945,4.224839210510254,4.178045272827148,4.201841831207275,4.251659870147705,4.175891876220703,4.150914192199707,4.176260948181152,4.248972415924072,4.1745710372924805,4.22353982925415,4.150328159332275,4.272160530090332,4.225499629974365,4.187004089355469,4.1764984130859375,4.252063274383545,4.251097202301025,4.174901962280273,4.273075103759766,4.251276969909668,4.202062129974365,4.251494884490967,4.275723457336426,4.175985813140869,4.226518630981445,4.2033796310424805,4.174170017242432,4.195014476776123,4.200952053070068,4.17690372467041,4.200531959533691,4.224921226501465,4.199738502502441,4.225790023803711,4.203127861022949,4.199783802032471,4.200094699859619,4.1506781578063965,4.2489519119262695,4.175123691558838,4.197096824645996,4.201302528381348,4.227719306945801,4.203302383422852,4.226563453674316,4.25010871887207,4.228503227233887,4.173891067504883,4.273910999298096,4.201674938201904,4.226567268371582,4.222728729248047,4.176508903503418,4.222692489624023,4.225484371185303,4.1764607429504395,4.202129364013672,4.2013444900512695,4.151556968688965,4.149794101715088,4.250669956207275,4.199499607086182,4.175455570220947,4.197375774383545,4.202299118041992],\"yaxis\":\"y\",\"type\":\"scatter\"}],                        {\"template\":{\"data\":{\"histogram2dcontour\":[{\"type\":\"histogram2dcontour\",\"colorbar\":{\"outlinewidth\":0,\"ticks\":\"\"},\"colorscale\":[[0.0,\"#0d0887\"],[0.1111111111111111,\"#46039f\"],[0.2222222222222222,\"#7201a8\"],[0.3333333333333333,\"#9c179e\"],[0.4444444444444444,\"#bd3786\"],[0.5555555555555556,\"#d8576b\"],[0.6666666666666666,\"#ed7953\"],[0.7777777777777778,\"#fb9f3a\"],[0.8888888888888888,\"#fdca26\"],[1.0,\"#f0f921\"]]}],\"choropleth\":[{\"type\":\"choropleth\",\"colorbar\":{\"outlinewidth\":0,\"ticks\":\"\"}}],\"histogram2d\":[{\"type\":\"histogram2d\",\"colorbar\":{\"outlinewidth\":0,\"ticks\":\"\"},\"colorscale\":[[0.0,\"#0d0887\"],[0.1111111111111111,\"#46039f\"],[0.2222222222222222,\"#7201a8\"],[0.3333333333333333,\"#9c179e\"],[0.4444444444444444,\"#bd3786\"],[0.5555555555555556,\"#d8576b\"],[0.6666666666666666,\"#ed7953\"],[0.7777777777777778,\"#fb9f3a\"],[0.8888888888888888,\"#fdca26\"],[1.0,\"#f0f921\"]]}],\"heatmap\":[{\"type\":\"heatmap\",\"colorbar\":{\"outlinewidth\":0,\"ticks\":\"\"},\"colorscale\":[[0.0,\"#0d0887\"],[0.1111111111111111,\"#46039f\"],[0.2222222222222222,\"#7201a8\"],[0.3333333333333333,\"#9c179e\"],[0.4444444444444444,\"#bd3786\"],[0.5555555555555556,\"#d8576b\"],[0.6666666666666666,\"#ed7953\"],[0.7777777777777778,\"#fb9f3a\"],[0.8888888888888888,\"#fdca26\"],[1.0,\"#f0f921\"]]}],\"heatmapgl\":[{\"type\":\"heatmapgl\",\"colorbar\":{\"outlinewidth\":0,\"ticks\":\"\"},\"colorscale\":[[0.0,\"#0d0887\"],[0.1111111111111111,\"#46039f\"],[0.2222222222222222,\"#7201a8\"],[0.3333333333333333,\"#9c179e\"],[0.4444444444444444,\"#bd3786\"],[0.5555555555555556,\"#d8576b\"],[0.6666666666666666,\"#ed7953\"],[0.7777777777777778,\"#fb9f3a\"],[0.8888888888888888,\"#fdca26\"],[1.0,\"#f0f921\"]]}],\"contourcarpet\":[{\"type\":\"contourcarpet\",\"colorbar\":{\"outlinewidth\":0,\"ticks\":\"\"}}],\"contour\":[{\"type\":\"contour\",\"colorbar\":{\"outlinewidth\":0,\"ticks\":\"\"},\"colorscale\":[[0.0,\"#0d0887\"],[0.1111111111111111,\"#46039f\"],[0.2222222222222222,\"#7201a8\"],[0.3333333333333333,\"#9c179e\"],[0.4444444444444444,\"#bd3786\"],[0.5555555555555556,\"#d8576b\"],[0.6666666666666666,\"#ed7953\"],[0.7777777777777778,\"#fb9f3a\"],[0.8888888888888888,\"#fdca26\"],[1.0,\"#f0f921\"]]}],\"surface\":[{\"type\":\"surface\",\"colorbar\":{\"outlinewidth\":0,\"ticks\":\"\"},\"colorscale\":[[0.0,\"#0d0887\"],[0.1111111111111111,\"#46039f\"],[0.2222222222222222,\"#7201a8\"],[0.3333333333333333,\"#9c179e\"],[0.4444444444444444,\"#bd3786\"],[0.5555555555555556,\"#d8576b\"],[0.6666666666666666,\"#ed7953\"],[0.7777777777777778,\"#fb9f3a\"],[0.8888888888888888,\"#fdca26\"],[1.0,\"#f0f921\"]]}],\"mesh3d\":[{\"type\":\"mesh3d\",\"colorbar\":{\"outlinewidth\":0,\"ticks\":\"\"}}],\"scatter\":[{\"fillpattern\":{\"fillmode\":\"overlay\",\"size\":10,\"solidity\":0.2},\"type\":\"scatter\"}],\"parcoords\":[{\"type\":\"parcoords\",\"line\":{\"colorbar\":{\"outlinewidth\":0,\"ticks\":\"\"}}}],\"scatterpolargl\":[{\"type\":\"scatterpolargl\",\"marker\":{\"colorbar\":{\"outlinewidth\":0,\"ticks\":\"\"}}}],\"bar\":[{\"error_x\":{\"color\":\"#2a3f5f\"},\"error_y\":{\"color\":\"#2a3f5f\"},\"marker\":{\"line\":{\"color\":\"#E5ECF6\",\"width\":0.5},\"pattern\":{\"fillmode\":\"overlay\",\"size\":10,\"solidity\":0.2}},\"type\":\"bar\"}],\"scattergeo\":[{\"type\":\"scattergeo\",\"marker\":{\"colorbar\":{\"outlinewidth\":0,\"ticks\":\"\"}}}],\"scatterpolar\":[{\"type\":\"scatterpolar\",\"marker\":{\"colorbar\":{\"outlinewidth\":0,\"ticks\":\"\"}}}],\"histogram\":[{\"marker\":{\"pattern\":{\"fillmode\":\"overlay\",\"size\":10,\"solidity\":0.2}},\"type\":\"histogram\"}],\"scattergl\":[{\"type\":\"scattergl\",\"marker\":{\"colorbar\":{\"outlinewidth\":0,\"ticks\":\"\"}}}],\"scatter3d\":[{\"type\":\"scatter3d\",\"line\":{\"colorbar\":{\"outlinewidth\":0,\"ticks\":\"\"}},\"marker\":{\"colorbar\":{\"outlinewidth\":0,\"ticks\":\"\"}}}],\"scattermapbox\":[{\"type\":\"scattermapbox\",\"marker\":{\"colorbar\":{\"outlinewidth\":0,\"ticks\":\"\"}}}],\"scatterternary\":[{\"type\":\"scatterternary\",\"marker\":{\"colorbar\":{\"outlinewidth\":0,\"ticks\":\"\"}}}],\"scattercarpet\":[{\"type\":\"scattercarpet\",\"marker\":{\"colorbar\":{\"outlinewidth\":0,\"ticks\":\"\"}}}],\"carpet\":[{\"aaxis\":{\"endlinecolor\":\"#2a3f5f\",\"gridcolor\":\"white\",\"linecolor\":\"white\",\"minorgridcolor\":\"white\",\"startlinecolor\":\"#2a3f5f\"},\"baxis\":{\"endlinecolor\":\"#2a3f5f\",\"gridcolor\":\"white\",\"linecolor\":\"white\",\"minorgridcolor\":\"white\",\"startlinecolor\":\"#2a3f5f\"},\"type\":\"carpet\"}],\"table\":[{\"cells\":{\"fill\":{\"color\":\"#EBF0F8\"},\"line\":{\"color\":\"white\"}},\"header\":{\"fill\":{\"color\":\"#C8D4E3\"},\"line\":{\"color\":\"white\"}},\"type\":\"table\"}],\"barpolar\":[{\"marker\":{\"line\":{\"color\":\"#E5ECF6\",\"width\":0.5},\"pattern\":{\"fillmode\":\"overlay\",\"size\":10,\"solidity\":0.2}},\"type\":\"barpolar\"}],\"pie\":[{\"automargin\":true,\"type\":\"pie\"}]},\"layout\":{\"autotypenumbers\":\"strict\",\"colorway\":[\"#636efa\",\"#EF553B\",\"#00cc96\",\"#ab63fa\",\"#FFA15A\",\"#19d3f3\",\"#FF6692\",\"#B6E880\",\"#FF97FF\",\"#FECB52\"],\"font\":{\"color\":\"#2a3f5f\"},\"hovermode\":\"closest\",\"hoverlabel\":{\"align\":\"left\"},\"paper_bgcolor\":\"white\",\"plot_bgcolor\":\"#E5ECF6\",\"polar\":{\"bgcolor\":\"#E5ECF6\",\"angularaxis\":{\"gridcolor\":\"white\",\"linecolor\":\"white\",\"ticks\":\"\"},\"radialaxis\":{\"gridcolor\":\"white\",\"linecolor\":\"white\",\"ticks\":\"\"}},\"ternary\":{\"bgcolor\":\"#E5ECF6\",\"aaxis\":{\"gridcolor\":\"white\",\"linecolor\":\"white\",\"ticks\":\"\"},\"baxis\":{\"gridcolor\":\"white\",\"linecolor\":\"white\",\"ticks\":\"\"},\"caxis\":{\"gridcolor\":\"white\",\"linecolor\":\"white\",\"ticks\":\"\"}},\"coloraxis\":{\"colorbar\":{\"outlinewidth\":0,\"ticks\":\"\"}},\"colorscale\":{\"sequential\":[[0.0,\"#0d0887\"],[0.1111111111111111,\"#46039f\"],[0.2222222222222222,\"#7201a8\"],[0.3333333333333333,\"#9c179e\"],[0.4444444444444444,\"#bd3786\"],[0.5555555555555556,\"#d8576b\"],[0.6666666666666666,\"#ed7953\"],[0.7777777777777778,\"#fb9f3a\"],[0.8888888888888888,\"#fdca26\"],[1.0,\"#f0f921\"]],\"sequentialminus\":[[0.0,\"#0d0887\"],[0.1111111111111111,\"#46039f\"],[0.2222222222222222,\"#7201a8\"],[0.3333333333333333,\"#9c179e\"],[0.4444444444444444,\"#bd3786\"],[0.5555555555555556,\"#d8576b\"],[0.6666666666666666,\"#ed7953\"],[0.7777777777777778,\"#fb9f3a\"],[0.8888888888888888,\"#fdca26\"],[1.0,\"#f0f921\"]],\"diverging\":[[0,\"#8e0152\"],[0.1,\"#c51b7d\"],[0.2,\"#de77ae\"],[0.3,\"#f1b6da\"],[0.4,\"#fde0ef\"],[0.5,\"#f7f7f7\"],[0.6,\"#e6f5d0\"],[0.7,\"#b8e186\"],[0.8,\"#7fbc41\"],[0.9,\"#4d9221\"],[1,\"#276419\"]]},\"xaxis\":{\"gridcolor\":\"white\",\"linecolor\":\"white\",\"ticks\":\"\",\"title\":{\"standoff\":15},\"zerolinecolor\":\"white\",\"automargin\":true,\"zerolinewidth\":2},\"yaxis\":{\"gridcolor\":\"white\",\"linecolor\":\"white\",\"ticks\":\"\",\"title\":{\"standoff\":15},\"zerolinecolor\":\"white\",\"automargin\":true,\"zerolinewidth\":2},\"scene\":{\"xaxis\":{\"backgroundcolor\":\"#E5ECF6\",\"gridcolor\":\"white\",\"linecolor\":\"white\",\"showbackground\":true,\"ticks\":\"\",\"zerolinecolor\":\"white\",\"gridwidth\":2},\"yaxis\":{\"backgroundcolor\":\"#E5ECF6\",\"gridcolor\":\"white\",\"linecolor\":\"white\",\"showbackground\":true,\"ticks\":\"\",\"zerolinecolor\":\"white\",\"gridwidth\":2},\"zaxis\":{\"backgroundcolor\":\"#E5ECF6\",\"gridcolor\":\"white\",\"linecolor\":\"white\",\"showbackground\":true,\"ticks\":\"\",\"zerolinecolor\":\"white\",\"gridwidth\":2}},\"shapedefaults\":{\"line\":{\"color\":\"#2a3f5f\"}},\"annotationdefaults\":{\"arrowcolor\":\"#2a3f5f\",\"arrowhead\":0,\"arrowwidth\":1},\"geo\":{\"bgcolor\":\"white\",\"landcolor\":\"#E5ECF6\",\"subunitcolor\":\"white\",\"showland\":true,\"showlakes\":true,\"lakecolor\":\"white\"},\"title\":{\"x\":0.05},\"mapbox\":{\"style\":\"light\"}}},\"xaxis\":{\"anchor\":\"y\",\"domain\":[0.0,1.0],\"title\":{\"text\":\"index\"}},\"yaxis\":{\"anchor\":\"x\",\"domain\":[0.0,1.0],\"title\":{\"text\":\"value\"}},\"legend\":{\"title\":{\"text\":\"variable\"},\"tracegroupgap\":0},\"margin\":{\"t\":60},\"shapes\":[{\"line\":{\"color\":\"green\"},\"type\":\"line\",\"x0\":0,\"x1\":1,\"xref\":\"x domain\",\"y0\":4.1020121574401855,\"y1\":4.1020121574401855,\"yref\":\"y\"},{\"line\":{\"color\":\"red\",\"dash\":\"dot\"},\"type\":\"line\",\"x0\":0,\"x1\":1,\"xref\":\"x domain\",\"y0\":4.207365042368571,\"y1\":4.207365042368571,\"yref\":\"y\"}]},                        {\"responsive\": true}                    ).then(function(){\n",
       "                            \n",
       "var gd = document.getElementById('dca780e9-e59d-4958-8231-6d43df58e6a0');\n",
       "var x = new MutationObserver(function (mutations, observer) {{\n",
       "        var display = window.getComputedStyle(gd).display;\n",
       "        if (!display || display === 'none') {{\n",
       "            console.log([gd, 'removed!']);\n",
       "            Plotly.purge(gd);\n",
       "            observer.disconnect();\n",
       "        }}\n",
       "}});\n",
       "\n",
       "// Listen for the removal of the full notebook cells\n",
       "var notebookContainer = gd.closest('#notebook-container');\n",
       "if (notebookContainer) {{\n",
       "    x.observe(notebookContainer, {childList: true});\n",
       "}}\n",
       "\n",
       "// Listen for the clearing of the current output cell\n",
       "var outputEl = gd.closest('.output');\n",
       "if (outputEl) {{\n",
       "    x.observe(outputEl, {childList: true});\n",
       "}}\n",
       "\n",
       "                        })                };                });            </script>        </div>"
      ]
     },
     "metadata": {},
     "output_type": "display_data"
    }
   ],
   "source": [
    "\"  ---- traning loop ---- \"\n",
    "net.train()\n",
    "epoch = 300\n",
    "lr = 1e-3\n",
    "loss_ = []\n",
    "optim = torch.optim.Adam(params=net.parameters(), lr=lr)\n",
    "for i in range(epoch):\n",
    "    data = get_data(model_args.batch_size,model_args.window_size)\n",
    "    [ logits , loss ] = net.trainer(*data)\n",
    "    optim.zero_grad()\n",
    "    loss.backward()\n",
    "    optim.step()\n",
    "    loss_.append(loss.item())\n",
    "    \n",
    "ex.line(loss_).add_hline( min(loss_),line_color=\"green\").add_hline( sum(loss_)/epoch,line_dash=\"dot\", line_color=\"red\" )"
   ]
  },
  {
   "cell_type": "code",
   "execution_count": 254,
   "id": "c0df250f-417c-44c4-9c6d-41729e43115f",
   "metadata": {},
   "outputs": [
    {
     "name": "stdout",
     "output_type": "stream",
     "text": [
      "prompt: -----------\n",
      "\n",
      "articular \n",
      "\n",
      "model:  ----------\n",
      "\n",
      "n n IWESED 8 g 3 Y\n",
      "\n",
      "\n",
      "Jd x t\n",
      " U"
     ]
    }
   ],
   "source": [
    "\" ---- generate text ---- \"\n",
    "net.eval()\n",
    "sequence_length = 30\n",
    "x,_ = get_data(batch_size=1 , window_size=net.arg.window_size,val=True)\n",
    "print(\"prompt: -----------\\n\",\"\".join(tokenizer.decode(x[0].tolist())),\"\\nmodel:  ----------\\n\", sep=\"\\n\")\n",
    "with torch.no_grad():\n",
    "    for _ in range(sequence_length):\n",
    "        logits = net(x[:,-net.arg.window_size:])\n",
    "        predict = torch.multinomial(logits[:,-1,:],num_samples = 1)\n",
    "        x = torch.concat((x,predict) , -1)\n",
    "        print(tokenizer.decode(predict[0].tolist())[0], end=\"\" , flush=True)"
   ]
  }
 ],
 "metadata": {
  "kernelspec": {
   "display_name": "Python 3 (ipykernel)",
   "language": "python",
   "name": "python3"
  },
  "language_info": {
   "codemirror_mode": {
    "name": "ipython",
    "version": 3
   },
   "file_extension": ".py",
   "mimetype": "text/x-python",
   "name": "python",
   "nbconvert_exporter": "python",
   "pygments_lexer": "ipython3",
   "version": "3.12.4"
  }
 },
 "nbformat": 4,
 "nbformat_minor": 5
}
